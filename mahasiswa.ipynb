{
  "nbformat": 4,
  "nbformat_minor": 0,
  "metadata": {
    "colab": {
      "provenance": [],
      "name": "mahasiswa.ipynb",
      "include_colab_link": true
    },
    "kernelspec": {
      "name": "python3",
      "display_name": "Python 3"
    },
    "language_info": {
      "name": "python"
    }
  },
  "cells": [
    {
      "cell_type": "markdown",
      "metadata": {
        "id": "view-in-github",
        "colab_type": "text"
      },
      "source": [
        "<a href=\"https://colab.research.google.com/github/dianpranatahsb/PBO/blob/main/mahasiswa.ipynb\" target=\"_parent\"><img src=\"https://colab.research.google.com/assets/colab-badge.svg\" alt=\"Open In Colab\"/></a>"
      ]
    },
    {
      "cell_type": "code",
      "execution_count": null,
      "metadata": {
        "colab": {
          "base_uri": "https://localhost:8080/"
        },
        "id": "6kSPkAyECNQ3",
        "outputId": "67c4a9ba-8ccd-4963-c640-7271a2688f0b"
      },
      "outputs": [
        {
          "output_type": "stream",
          "name": "stdout",
          "text": [
            "Luas Persegi Panjang: 50\n"
          ]
        }
      ],
      "source": [
        "class Mahasiswa:\n",
        "    def __init__(self, nama, nim):\n",
        "        self.nama = nama\n",
        "        self.nim = nim\n",
        "\n",
        "    def cetak_krs(self):\n",
        "        print(f\"Mahasiswa {self.nama} dengan NIM {self.nim} merubah KRS\")\n",
        "\n",
        "mhs = Mahasiswa(\"Rangga\", \"7654578987678\")\n",
        "mhs.cetak_krs()"
      ]
    }
  ]
}